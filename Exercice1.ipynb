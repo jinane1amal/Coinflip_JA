{
 "cells": [
  {
   "cell_type": "code",
   "execution_count": null,
   "metadata": {},
   "outputs": [
    {
     "data": {
      "text/plain": [
       "('b13f841900000000000000000000000000000000000000000000000000000000000000200000000000000000000000000000000000000000000000000000000000000001000000000000000000000000000000000000000000000000000000000000000200000000000000000000000000000000000000000000000000000000000007c900000000000000000000000000000000000000000000000000000000000007ca',\n",
       " 'b13f841907c907ca01')"
      ]
     },
     "execution_count": 3,
     "metadata": {},
     "output_type": "execute_result"
    }
   ],
   "source": [
    "import hashlib\n",
    "\n",
    "# First Question: Full ABI Encoding Output\n",
    "# ----------------------------------------\n",
    "\n",
    "# Compute function selector (first 4 bytes of keccak256 hash)\n",
    "function_signature = \"HelloWorld(uint[],bool)\".encode()\n",
    "function_selector = hashlib.sha3_256(function_signature).hexdigest()[:8]\n",
    "\n",
    "# Memory location for uint[] (we assume 0x20, 32 bytes)\n",
    "memory_location_uint_array = \"0000000000000000000000000000000000000000000000000000000000000020\"\n",
    "\n",
    "# Boolean value (true = 1, left-padded 32 bytes)\n",
    "bool_value = \"0000000000000000000000000000000000000000000000000000000000000001\"\n",
    "\n",
    "# Array length (assuming [1993, 1994], so length = 2, left-padded 32 bytes)\n",
    "array_length = \"0000000000000000000000000000000000000000000000000000000000000002\"\n",
    "\n",
    "# Array elements (each 32 bytes, left-padded)\n",
    "element_1 = \"00000000000000000000000000000000000000000000000000000000000007c9\"  # 1993\n",
    "element_2 = \"00000000000000000000000000000000000000000000000000000000000007ca\"  # 1994\n",
    "\n",
    "# Full ABI encoded output structure \n",
    "full_abi_encoding = function_selector + memory_location_uint_array + bool_value + array_length + element_1 + element_2\n",
    "\n",
    "# ----------------------------------------\n",
    "# Second Question: abi.encodePacked() Output\n",
    "# ----------------------------------------\n",
    "\n",
    "# abi.encodePacked() removes zero padding and concatenates values directly\n",
    "encoded_packed = function_selector + \"07c907ca01\"  # 1993 (07c9), 1994 (07ca), true (01)\n",
    "\n",
    "# Display results\n",
    "full_abi_encoding, encoded_packed\n"
   ]
  }
 ],
 "metadata": {
  "kernelspec": {
   "display_name": "base",
   "language": "python",
   "name": "python3"
  },
  "language_info": {
   "codemirror_mode": {
    "name": "ipython",
    "version": 3
   },
   "file_extension": ".py",
   "mimetype": "text/x-python",
   "name": "python",
   "nbconvert_exporter": "python",
   "pygments_lexer": "ipython3",
   "version": "3.11.9"
  }
 },
 "nbformat": 4,
 "nbformat_minor": 2
}
